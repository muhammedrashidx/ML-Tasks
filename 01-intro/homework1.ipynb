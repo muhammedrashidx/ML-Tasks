{
 "cells": [
  {
   "cell_type": "code",
   "execution_count": 18,
   "id": "3a0810d0",
   "metadata": {},
   "outputs": [],
   "source": [
    "import pandas as pd\n",
    "import numpy as np"
   ]
  },
  {
   "cell_type": "code",
   "execution_count": 2,
   "id": "a17ee75c",
   "metadata": {},
   "outputs": [
    {
     "data": {
      "text/plain": [
       "'2.3.1'"
      ]
     },
     "execution_count": 2,
     "metadata": {},
     "output_type": "execute_result"
    }
   ],
   "source": [
    "pd.__version__"
   ]
  },
  {
   "cell_type": "code",
   "execution_count": 3,
   "id": "2b9c4cd0",
   "metadata": {},
   "outputs": [],
   "source": [
    "df = pd.read_csv(\"car_fuel_efficiency.csv\")"
   ]
  },
  {
   "cell_type": "code",
   "execution_count": 8,
   "id": "5780a9ee",
   "metadata": {},
   "outputs": [
    {
     "data": {
      "text/plain": [
       "RangeIndex(start=0, stop=9704, step=1)"
      ]
     },
     "execution_count": 8,
     "metadata": {},
     "output_type": "execute_result"
    }
   ],
   "source": [
    "df.index"
   ]
  },
  {
   "cell_type": "code",
   "execution_count": 14,
   "id": "b8ccccd5",
   "metadata": {},
   "outputs": [
    {
     "data": {
      "text/plain": [
       "array(['Gasoline', 'Diesel'], dtype=object)"
      ]
     },
     "execution_count": 14,
     "metadata": {},
     "output_type": "execute_result"
    }
   ],
   "source": [
    "df.fuel_type.unique()"
   ]
  },
  {
   "cell_type": "code",
   "execution_count": 24,
   "id": "e0d1fff6",
   "metadata": {},
   "outputs": [
    {
     "data": {
      "text/plain": [
       "np.int64(0)"
      ]
     },
     "execution_count": 24,
     "metadata": {},
     "output_type": "execute_result"
    }
   ],
   "source": [
    "df.count().isnull().sum()"
   ]
  },
  {
   "cell_type": "code",
   "execution_count": 35,
   "id": "3ab886b6",
   "metadata": {},
   "outputs": [
    {
     "data": {
      "text/plain": [
       "np.float64(23.759122836520497)"
      ]
     },
     "execution_count": 35,
     "metadata": {},
     "output_type": "execute_result"
    }
   ],
   "source": [
    "df[df['origin']=='Asia'].fuel_efficiency_mpg.max()"
   ]
  },
  {
   "cell_type": "code",
   "execution_count": 36,
   "id": "10abe66d",
   "metadata": {},
   "outputs": [
    {
     "data": {
      "text/plain": [
       "np.float64(149.0)"
      ]
     },
     "execution_count": 36,
     "metadata": {},
     "output_type": "execute_result"
    }
   ],
   "source": [
    "df.horsepower.median()"
   ]
  },
  {
   "cell_type": "code",
   "execution_count": 63,
   "id": "8919ca36",
   "metadata": {},
   "outputs": [
    {
     "data": {
      "text/plain": [
       "np.float64(152.0)"
      ]
     },
     "execution_count": 63,
     "metadata": {},
     "output_type": "execute_result"
    }
   ],
   "source": [
    "df.horsepower.mode()[0]"
   ]
  },
  {
   "cell_type": "code",
   "execution_count": 65,
   "id": "e264d2a0",
   "metadata": {},
   "outputs": [
    {
     "data": {
      "text/plain": [
       "0       159.0\n",
       "1        97.0\n",
       "2        78.0\n",
       "3       152.0\n",
       "4       140.0\n",
       "        ...  \n",
       "9699    164.0\n",
       "9700    154.0\n",
       "9701    138.0\n",
       "9702    177.0\n",
       "9703    140.0\n",
       "Name: horsepower, Length: 9704, dtype: float64"
      ]
     },
     "execution_count": 65,
     "metadata": {},
     "output_type": "execute_result"
    }
   ],
   "source": [
    "df.horsepower.fillna(df.horsepower.mode()[0])"
   ]
  },
  {
   "cell_type": "code",
   "execution_count": 66,
   "id": "b3edca28",
   "metadata": {},
   "outputs": [
    {
     "data": {
      "text/plain": [
       "np.float64(152.0)"
      ]
     },
     "execution_count": 66,
     "metadata": {},
     "output_type": "execute_result"
    }
   ],
   "source": [
    "df.horsepower.median()"
   ]
  },
  {
   "cell_type": "code",
   "execution_count": 6,
   "id": "4e5e6b72",
   "metadata": {},
   "outputs": [],
   "source": [
    "df_asia = df[df['origin']=='Asia']"
   ]
  },
  {
   "cell_type": "code",
   "execution_count": 26,
   "id": "b071bedf",
   "metadata": {},
   "outputs": [],
   "source": [
    "df_asia = df[['vehicle_weight','model_year']]"
   ]
  },
  {
   "cell_type": "code",
   "execution_count": 27,
   "id": "ee499806",
   "metadata": {},
   "outputs": [],
   "source": [
    "X = np.array(df_asia.iloc[0:7])"
   ]
  },
  {
   "cell_type": "code",
   "execution_count": 28,
   "id": "eaf5fa9c",
   "metadata": {},
   "outputs": [
    {
     "data": {
      "text/plain": [
       "array([[3413.43375861, 2003.        ],\n",
       "       [3149.66493422, 2007.        ],\n",
       "       [3079.03899737, 2018.        ],\n",
       "       [2542.39240183, 2009.        ],\n",
       "       [3460.87098999, 2009.        ],\n",
       "       [2484.88398604, 2008.        ],\n",
       "       [3006.54228722, 2012.        ]])"
      ]
     },
     "execution_count": 28,
     "metadata": {},
     "output_type": "execute_result"
    }
   ],
   "source": [
    "X"
   ]
  },
  {
   "cell_type": "code",
   "execution_count": 40,
   "id": "3ea6dcae",
   "metadata": {},
   "outputs": [],
   "source": [
    "Xt = X.T"
   ]
  },
  {
   "cell_type": "code",
   "execution_count": 41,
   "id": "61eb1749",
   "metadata": {},
   "outputs": [],
   "source": [
    "\n",
    "XTX = np.dot(Xt,X)"
   ]
  },
  {
   "cell_type": "code",
   "execution_count": 42,
   "id": "9756c86c",
   "metadata": {},
   "outputs": [
    {
     "data": {
      "text/plain": [
       "array([[64707732.45267162, 42471352.31816065],\n",
       "       [42471352.31816065, 28264752.        ]])"
      ]
     },
     "execution_count": 42,
     "metadata": {},
     "output_type": "execute_result"
    }
   ],
   "source": [
    "XTX"
   ]
  },
  {
   "cell_type": "code",
   "execution_count": 43,
   "id": "4fd7f567",
   "metadata": {},
   "outputs": [],
   "source": [
    "invert_XTX = np.linalg.inv(XTX)"
   ]
  },
  {
   "cell_type": "code",
   "execution_count": 44,
   "id": "cff5e67a",
   "metadata": {},
   "outputs": [],
   "source": [
    "y = np.array([1100, 1300, 800, 900, 1000, 1100, 1200])"
   ]
  },
  {
   "cell_type": "code",
   "execution_count": 52,
   "id": "eb35edd9",
   "metadata": {},
   "outputs": [],
   "source": [
    "w = np.dot(invert_XTX, Xt)\n",
    "w = np.dot(w, y)"
   ]
  },
  {
   "cell_type": "code",
   "execution_count": 53,
   "id": "f84cd058",
   "metadata": {},
   "outputs": [
    {
     "data": {
      "text/plain": [
       "array([0.07099685, 0.41931263])"
      ]
     },
     "execution_count": 53,
     "metadata": {},
     "output_type": "execute_result"
    }
   ],
   "source": [
    "w"
   ]
  },
  {
   "cell_type": "code",
   "execution_count": 55,
   "id": "ddaef199",
   "metadata": {},
   "outputs": [
    {
     "data": {
      "text/plain": [
       "np.float64(0.49)"
      ]
     },
     "execution_count": 55,
     "metadata": {},
     "output_type": "execute_result"
    }
   ],
   "source": [
    "np.sum(w).round(2)"
   ]
  }
 ],
 "metadata": {
  "kernelspec": {
   "display_name": "Python 3",
   "language": "python",
   "name": "python3"
  },
  "language_info": {
   "codemirror_mode": {
    "name": "ipython",
    "version": 3
   },
   "file_extension": ".py",
   "mimetype": "text/x-python",
   "name": "python",
   "nbconvert_exporter": "python",
   "pygments_lexer": "ipython3",
   "version": "3.12.1"
  }
 },
 "nbformat": 4,
 "nbformat_minor": 5
}
